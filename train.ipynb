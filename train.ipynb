{
 "cells": [
  {
   "cell_type": "code",
   "execution_count": 1,
   "metadata": {},
   "outputs": [],
   "source": [
    "import datetime\n",
    "\n",
    "from tensorflow.keras.callbacks import ModelCheckpoint, TensorBoard\n",
    "from tensorflow.keras.layers import RandomRotation, RandomZoom, Rescaling, Conv2D, MaxPooling2D, Flatten, Dense, Dropout\n",
    "from tensorflow.keras.models import Sequential\n",
    "import tensorflow as tf\n",
    "\n",
    "epochs = 2000\n",
    "\n",
    "width = 256\n",
    "height = 256\n",
    "model_name = 'v1.h5'"
   ]
  },
  {
   "cell_type": "code",
   "execution_count": 2,
   "metadata": {},
   "outputs": [],
   "source": [
    "def get_new_model(width, height):\n",
    "    model = Sequential([\n",
    "        # preprocessing layers \n",
    "        Rescaling(1./255, input_shape=(width, height, 1)),\n",
    "        RandomRotation(0.2),\n",
    "        RandomZoom(0.2, 0.2),\n",
    "        # convolutional layers\n",
    "        Conv2D(32, (3, 3), activation='relu', padding='same', name='conv1'),\n",
    "        MaxPooling2D(pool_size=(2, 2), name='maxpool1'),\n",
    "        Conv2D(64, (3, 3), activation='relu', padding='same', name='conv2'),\n",
    "        MaxPooling2D(pool_size=(2, 2), name='maxpool2'),\n",
    "        Conv2D(128, (3, 3), activation='relu', padding='same', name='conv3'),\n",
    "        MaxPooling2D(pool_size=(2, 2), name='maxpool3'),\n",
    "        Flatten(name='flatten'),\n",
    "        Dense(128, activation='relu', name='dense1'),\n",
    "        Dropout(0.5, name='dropout'),\n",
    "        Dense(2, activation='softmax', name='output')\n",
    "    ])\n",
    "    \n",
    "    model.compile(optimizer='adam', loss='categorical_crossentropy', metrics=['accuracy'])\n",
    "    return model"
   ]
  },
  {
   "cell_type": "code",
   "execution_count": 3,
   "metadata": {},
   "outputs": [],
   "source": [
    "train_dir = \"./data_training/training\"\n",
    "validation_dir = \"./data_training/validation\"\n",
    "\n",
    "def train_model(model, batch_size, width, height, epochs, model_name, initial_epoch=0, log_dir=None):\n",
    "    train_ds = tf.keras.preprocessing.image_dataset_from_directory(\n",
    "        './data_training/training',\n",
    "        image_size=(width, height),\n",
    "        batch_size=batch_size,\n",
    "        label_mode='categorical',\n",
    "        color_mode='grayscale')\n",
    "\n",
    "    validation_ds = tf.keras.preprocessing.image_dataset_from_directory(\n",
    "        './data_training/validation',\n",
    "        image_size=(width, height),\n",
    "        batch_size=batch_size,\n",
    "        label_mode='categorical',\n",
    "        color_mode='grayscale')\n",
    "\n",
    "    # Use the existing log directory if provided, else create a new one\n",
    "    if not log_dir:\n",
    "        log_dir = f\"logs/{datetime.datetime.now().strftime('%Y%m%d-%H%M%S')}_{model_name}\"\n",
    "    \n",
    "    tensorboard = TensorBoard(log_dir=log_dir, histogram_freq=1, write_images=True)\n",
    "    checkpoint_path = f\"{model_name}_{{epoch:02d}}.weights.h5\"\n",
    "    checkpoint = ModelCheckpoint(checkpoint_path, save_weights_only=True, save_freq='epoch')\n",
    "\n",
    "    history = model.fit(\n",
    "        train_ds,\n",
    "        epochs=epochs,\n",
    "        initial_epoch=initial_epoch,\n",
    "        validation_data=validation_ds,\n",
    "        callbacks=[tensorboard, checkpoint])\n",
    "\n",
    "    return model, history"
   ]
  },
  {
   "cell_type": "code",
   "execution_count": null,
   "metadata": {},
   "outputs": [],
   "source": [
    "# Load the existing model and weights\n",
    "model = get_new_model(width, height)\n",
    "\n",
    "# Resume training\n",
    "checkpoint_file = 'v1.h5_1528.weights.h5'\n",
    "model.load_weights(checkpoint_file)\n",
    "existing_log_dir = \"logs/20240502-233028_v1.h5\"\n",
    "#existing_log_dir = None\n",
    "initial_epoch = 1528\n",
    "\n",
    "model, history = train_model(model, batch_size=32, width=width, height=height, epochs=epochs, model_name=model_name, initial_epoch=initial_epoch, log_dir=existing_log_dir)"
   ]
  }
 ],
 "metadata": {
  "kernelspec": {
   "display_name": ".env",
   "language": "python",
   "name": "python3"
  },
  "language_info": {
   "codemirror_mode": {
    "name": "ipython",
    "version": 3
   },
   "file_extension": ".py",
   "mimetype": "text/x-python",
   "name": "python",
   "nbconvert_exporter": "python",
   "pygments_lexer": "ipython3",
   "version": "3.11.9"
  }
 },
 "nbformat": 4,
 "nbformat_minor": 2
}
